{
 "cells": [
  {
   "cell_type": "code",
   "execution_count": 1,
   "metadata": {},
   "outputs": [
    {
     "name": "stdout",
     "output_type": "stream",
     "text": [
      "7.810249675906654\n"
     ]
    }
   ],
   "source": [
    "ko = (5 + 6j)\n",
    "print(abs(ko))"
   ]
  },
  {
   "cell_type": "code",
   "execution_count": 8,
   "metadata": {},
   "outputs": [
    {
     "name": "stdout",
     "output_type": "stream",
     "text": [
      "17.029386365926403\n",
      "17.02979413319954\n",
      "39.698866482558415\n",
      "5.0\n",
      "7.0\n",
      "(11-13j)\n"
     ]
    }
   ],
   "source": [
    "#here i'm practicing complex numbers\n",
    "k = (5  + 6j)\n",
    "o = (6 + 7j)\n",
    "v = (7 +8j)\n",
    "e = (8 +9j)\n",
    "res = abs(k + o)\n",
    "res1 = abs(k) + abs(o)\n",
    "res2 = abs(k + o + v + e)\n",
    "res3 = k.real\n",
    "res4 = o.imag\n",
    "res5 = (k+o).conjugate()\n",
    "print(res)\n",
    "print(res1)\n",
    "print(res2)\n",
    "print(res3)\n",
    "print(res4)\n",
    "print(res5)\n"
   ]
  },
  {
   "cell_type": "code",
   "execution_count": 19,
   "metadata": {},
   "outputs": [
    {
     "name": "stdout",
     "output_type": "stream",
     "text": [
      "my name is ko\n"
     ]
    }
   ],
   "source": [
    "name = 'ko'\n",
    "prints = f'my name is {name}'\n",
    "print(prints)\n"
   ]
  },
  {
   "cell_type": "code",
   "execution_count": 20,
   "metadata": {},
   "outputs": [
    {
     "name": "stdout",
     "output_type": "stream",
     "text": [
      "kovendhan\n",
      "<class 'str'>\n",
      "koven\n",
      "kvnhn\n"
     ]
    }
   ],
   "source": [
    "str = 'kovendhan'\n",
    "print(str)\n",
    "print(type(str))\n",
    "print(str[0:5])\n",
    "print(str[::2])\n"
   ]
  },
  {
   "cell_type": "code",
   "execution_count": 25,
   "metadata": {},
   "outputs": [
    {
     "name": "stdout",
     "output_type": "stream",
     "text": [
      "kovendhan \n",
      "KOVENDHAN \n",
      "kovendhan\n",
      "['kovendhan ']\n",
      "k,o,v,e,n,d,h,a,n, \n"
     ]
    }
   ],
   "source": [
    "k = 'kovendhan '\n",
    "print(k.lower())\n",
    "print(k.upper())\n",
    "print(k.strip())\n",
    "print(k.split(\",\"))\n",
    "print(\",\".join(k))"
   ]
  },
  {
   "cell_type": "code",
   "execution_count": 6,
   "metadata": {},
   "outputs": [
    {
     "name": "stdout",
     "output_type": "stream",
     "text": [
      "My name is kovendhan I am 20 years old.\n",
      "my name is kovendhan and i an 20 years old\n",
      "my name is kovendhan and i an 20 years old\n"
     ]
    }
   ],
   "source": [
    "name = \"kovendhan\"\n",
    "age = 20\n",
    "print(f\"My name is {name} I am {age} years old.\")# this is called formatting string\n",
    "print('my name is {} and i an {} years old'.format(name,age))\n",
    "print('my name is %s and i an %d years old'%(name,age))"
   ]
  },
  {
   "cell_type": "code",
   "execution_count": 35,
   "metadata": {},
   "outputs": [
    {
     "name": "stdout",
     "output_type": "stream",
     "text": [
      "nahdnevok\n",
      "kovend\n",
      "the text is not palindrome\n",
      "**********\n"
     ]
    }
   ],
   "source": [
    "#reverse string\n",
    "k = 'kovendhan'\n",
    "\n",
    "print(k[::-1])\n",
    "print(k[0:6:1])\n",
    "\n",
    "#palindrome\n",
    "text = \"kovendhan\"\n",
    "if text == text[::-1]:\n",
    "    print(\"it is palindrome\")\n",
    "else:\n",
    "    print(\"the text is not palindrome\")\n",
    "\n",
    "print('*'*10)"
   ]
  },
  {
   "cell_type": "code",
   "execution_count": null,
   "metadata": {},
   "outputs": [],
   "source": []
  }
 ],
 "metadata": {
  "kernelspec": {
   "display_name": "3.11.9",
   "language": "python",
   "name": "python3"
  },
  "language_info": {
   "codemirror_mode": {
    "name": "ipython",
    "version": 3
   },
   "file_extension": ".py",
   "mimetype": "text/x-python",
   "name": "python",
   "nbconvert_exporter": "python",
   "pygments_lexer": "ipython3",
   "version": "3.11.9"
  }
 },
 "nbformat": 4,
 "nbformat_minor": 2
}
