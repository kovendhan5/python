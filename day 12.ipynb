{
 "cells": [
  {
   "cell_type": "code",
   "execution_count": 9,
   "metadata": {},
   "outputs": [
    {
     "name": "stdout",
     "output_type": "stream",
     "text": [
      "ko\n"
     ]
    }
   ],
   "source": [
    "print(\"ko\")"
   ]
  },
  {
   "cell_type": "code",
   "execution_count": 11,
   "metadata": {},
   "outputs": [
    {
     "name": "stdout",
     "output_type": "stream",
     "text": [
      "pguitm lepnho eter an si en g\n"
     ]
    }
   ],
   "source": [
    "def form_(sen):\n",
    "    word = sen.split()\n",
    "    max_length = max(len(w) for w in word)\n",
    "    result=[]\n",
    "\n",
    "\n",
    "    for i in range (max_length):\n",
    "        new_w = \"\"\n",
    "        for w in word:\n",
    "            if i < len(w):\n",
    "                new_w += w[i]\n",
    "        result.append(new_w)\n",
    "    print(' '.join(result))\n",
    "s = str(input(\"\"))\n",
    "form_(s)"
   ]
  },
  {
   "cell_type": "code",
   "execution_count": null,
   "metadata": {},
   "outputs": [],
   "source": [
    "#sum of integers same unit \n",
    "n = int(input(\"enter the range\"))\n"
   ]
  },
  {
   "cell_type": "code",
   "execution_count": 9,
   "metadata": {},
   "outputs": [
    {
     "name": "stdout",
     "output_type": "stream",
     "text": [
      "[45, 54, 65, 42, 85]\n"
     ]
    }
   ],
   "source": [
    "#sum of integers same unit \n",
    "n =int(input(\"enter the values\"))\n",
    "List=map(int,input().split())\n",
    "List2=[]\n",
    "for i in List:\n",
    "    for j in range(len(List)):\n",
    "        if i[j]%10 == i[j+1]%10:\n",
    "            k=i[j]+i[j+1]\n",
    "            List2.append(k)\n",
    "        else:\n",
    "            List2.append(i[j])\n",
    "print(List2)"
   ]
  },
  {
   "cell_type": "code",
   "execution_count": null,
   "metadata": {},
   "outputs": [],
   "source": []
  },
  {
   "cell_type": "code",
   "execution_count": 11,
   "metadata": {},
   "outputs": [
    {
     "name": "stdout",
     "output_type": "stream",
     "text": [
      "abcfedghikj\n"
     ]
    }
   ],
   "source": [
    "# N characters forward reverse\n",
    "n = int(input(\"enter the value of n\"))\n",
    "s = str(input(\"enter the string\"))\n",
    "if 1 <= len(s) <= 1000:\n",
    "    result = []\n",
    "    for i in range(0, len(s), n):\n",
    "        chunk = s[i:i+n]\n",
    "        if (i // n) % 2 == 0:\n",
    "            result.append(chunk)\n",
    "        else:\n",
    "            result.append(chunk[::-1])\n",
    "    print(''.join(result))"
   ]
  },
  {
   "cell_type": "code",
   "execution_count": 12,
   "metadata": {},
   "outputs": [
    {
     "name": "stdout",
     "output_type": "stream",
     "text": [
      "abcfedghikj\n"
     ]
    }
   ],
   "source": [
    "n=int(input())\n",
    "s=str(input())\n",
    "r=\"\"\n",
    "for i in range(0,int(len(s)/n)+1):\n",
    "    l=len(s)\n",
    "    if l>n and i%2==0:\n",
    "        r+=s[:n]\n",
    "        s=s[n:]\n",
    "    else:\n",
    "        r+=s[n-1::-1]\n",
    "        s=s[n:]\n",
    "print(r)\n"
   ]
  }
 ],
 "metadata": {
  "kernelspec": {
   "display_name": "3.11.9",
   "language": "python",
   "name": "python3"
  },
  "language_info": {
   "codemirror_mode": {
    "name": "ipython",
    "version": 3
   },
   "file_extension": ".py",
   "mimetype": "text/x-python",
   "name": "python",
   "nbconvert_exporter": "python",
   "pygments_lexer": "ipython3",
   "version": "3.11.9"
  }
 },
 "nbformat": 4,
 "nbformat_minor": 2
}
