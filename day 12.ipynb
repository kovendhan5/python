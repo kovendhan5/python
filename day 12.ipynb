{
 "cells": [
  {
   "cell_type": "code",
   "execution_count": 9,
   "metadata": {},
   "outputs": [
    {
     "name": "stdout",
     "output_type": "stream",
     "text": [
      "ko\n"
     ]
    }
   ],
   "source": [
    "print(\"ko\")"
   ]
  },
  {
   "cell_type": "code",
   "execution_count": 11,
   "metadata": {},
   "outputs": [
    {
     "name": "stdout",
     "output_type": "stream",
     "text": [
      "pguitm lepnho eter an si en g\n"
     ]
    }
   ],
   "source": [
    "def form_(sen):\n",
    "    word = sen.split()\n",
    "    max_length = max(len(w) for w in word)\n",
    "    result=[]\n",
    "\n",
    "\n",
    "    for i in range (max_length):\n",
    "        new_w = \"\"\n",
    "        for w in word:\n",
    "            if i < len(w):\n",
    "                new_w += w[i]\n",
    "        result.append(new_w)\n",
    "    print(' '.join(result))\n",
    "s = str(input(\"\"))\n",
    "form_(s)"
   ]
  },
  {
   "cell_type": "code",
   "execution_count": null,
   "metadata": {},
   "outputs": [],
   "source": [
    "#sum of integers same unit \n",
    "n = int(input(\"enter the range\"))\n"
   ]
  },
  {
   "cell_type": "code",
   "execution_count": 9,
   "metadata": {},
   "outputs": [
    {
     "name": "stdout",
     "output_type": "stream",
     "text": [
      "[45, 54, 65, 42, 85]\n"
     ]
    }
   ],
   "source": [
    "#sum of integers same unit \n",
    "n =int(input(\"enter the values\"))\n",
    "List=map(int,input().split())\n",
    "List2=[]\n",
    "for i in List:\n",
    "    for j in range(len(List)):\n",
    "        if i[j]%10 == i[j+1]%10:\n",
    "            k=i[j]+i[j+1]\n",
    "            List2.append(k)\n",
    "        else:\n",
    "            List2.append(i[j])\n",
    "print(List2)"
   ]
  },
  {
   "cell_type": "code",
   "execution_count": null,
   "metadata": {},
   "outputs": [],
   "source": []
  },
  {
   "cell_type": "code",
   "execution_count": 11,
   "metadata": {},
   "outputs": [
    {
     "name": "stdout",
     "output_type": "stream",
     "text": [
      "abcfedghikj\n"
     ]
    }
   ],
   "source": [
    "# N characters forward reverse\n",
    "n = int(input(\"enter the value of n\"))\n",
    "s = str(input(\"enter the string\"))\n",
    "if 1 <= len(s) <= 1000:\n",
    "    result = []\n",
    "    for i in range(0, len(s), n):\n",
    "        chunk = s[i:i+n]\n",
    "        if (i // n) % 2 == 0:\n",
    "            result.append(chunk)\n",
    "        else:\n",
    "            result.append(chunk[::-1])\n",
    "    print(''.join(result))"
   ]
  },
  {
   "cell_type": "code",
   "execution_count": 12,
   "metadata": {},
   "outputs": [
    {
     "name": "stdout",
     "output_type": "stream",
     "text": [
      "abcfedghikj\n"
     ]
    }
   ],
   "source": [
    "n=int(input())\n",
    "s=str(input())\n",
    "r=\"\"\n",
    "for i in range(0,int(len(s)/n)+1):\n",
    "    l=len(s)\n",
    "    if l>n and i%2==0:\n",
    "        r+=s[:n]\n",
    "        s=s[n:]\n",
    "    else:\n",
    "        r+=s[n-1::-1]\n",
    "        s=s[n:]\n",
    "print(r)\n"
   ]
  },
  {
   "cell_type": "code",
   "execution_count": 1,
   "metadata": {},
   "outputs": [
    {
     "name": "stdout",
     "output_type": "stream",
     "text": [
      "3\n"
     ]
    }
   ],
   "source": [
    "def min_count_sum_N(N):\n",
    "    digits = list(map(int, str(N)))\n",
    "    \n",
    "    max_digit = max(digits)\n",
    "    \n",
    "    return max_digit\n",
    "\n",
    "N = int(input().strip())\n",
    "\n",
    "print(min_count_sum_N(N))"
   ]
  },
  {
   "cell_type": "code",
   "execution_count": 2,
   "metadata": {},
   "outputs": [
    {
     "name": "stdout",
     "output_type": "stream",
     "text": [
      "70\n"
     ]
    }
   ],
   "source": [
    "#Minimum Count - Sum N\n",
    "def middle_multiples_of_10(M, N):\n",
    "    first_multiple = ((M + 9) // 10) * 10\n",
    "    last_multiple = (N // 10) * 10\n",
    "    \n",
    "    multiples = list(range(first_multiple, last_multiple + 1, 10))\n",
    "    \n",
    "    if not multiples:\n",
    "        return -1\n",
    "    \n",
    "    n = len(multiples)\n",
    "    mid = n // 2\n",
    "    if n % 2 == 1:  # Odd count\n",
    "        return multiples[mid]\n",
    "    else:  # Even count\n",
    "        return multiples[mid - 1], multiples[mid]\n",
    "\n",
    "M, N = map(int, input().strip().split())\n",
    "\n",
    "result = middle_multiples_of_10(M, N)\n",
    "if result == -1:\n",
    "    print(-1)\n",
    "elif isinstance(result, tuple):  # Even count case\n",
    "    print(result[0], result[1])\n",
    "else:  # Odd count case\n",
    "    print(result)"
   ]
  },
  {
   "cell_type": "code",
   "execution_count": null,
   "metadata": {},
   "outputs": [
    {
     "ename": "ValueError",
     "evalue": "too many values to unpack (expected 2)",
     "output_type": "error",
     "traceback": [
      "\u001b[1;31m---------------------------------------------------------------------------\u001b[0m",
      "\u001b[1;31mValueError\u001b[0m                                Traceback (most recent call last)",
      "Cell \u001b[1;32mIn[4], line 24\u001b[0m\n\u001b[0;32m     21\u001b[0m         \u001b[38;5;28;01mreturn\u001b[39;00m multiples[mid \u001b[38;5;241m-\u001b[39m \u001b[38;5;241m1\u001b[39m], multiples[mid]\n\u001b[0;32m     23\u001b[0m \u001b[38;5;66;03m# Input: Read M and N from the user\u001b[39;00m\n\u001b[1;32m---> 24\u001b[0m M, N \u001b[38;5;241m=\u001b[39m \u001b[38;5;28mmap\u001b[39m(\u001b[38;5;28mint\u001b[39m, \u001b[38;5;28minput\u001b[39m()\u001b[38;5;241m.\u001b[39mstrip()\u001b[38;5;241m.\u001b[39msplit())\n\u001b[0;32m     26\u001b[0m \u001b[38;5;66;03m# Output: Print the result\u001b[39;00m\n\u001b[0;32m     27\u001b[0m result \u001b[38;5;241m=\u001b[39m middle_multiples_of_10(M, N)\n",
      "\u001b[1;31mValueError\u001b[0m: too many values to unpack (expected 2)"
     ]
    }
   ],
   "source": [
    "#Middle Multiple(s) of 10\n",
    "def middle_multiples_of_10(M, N):\n",
    "    first_multiple = ((M + 9) // 10) * 10\n",
    "    last_multiple = (N // 10) * 10\n",
    "    \n",
    "    multiples = list(range(first_multiple, last_multiple + 1, 10))\n",
    "    \n",
    "    if not multiples:\n",
    "        return -1\n",
    "    \n",
    "    n = len(multiples)\n",
    "    mid = n // 2\n",
    "    if n % 2 == 1:  # Odd count\n",
    "        return multiples[mid]\n",
    "    else:  # Even count\n",
    "        return multiples[mid - 1], multiples[mid]\n",
    "\n",
    "M, N = map(int, input().strip().split())\n",
    "\n",
    "result = middle_multiples_of_10(M, N)\n",
    "if result == -1:\n",
    "    print(-1)\n",
    "elif isinstance(result, tuple):  # Even count case\n",
    "    print(result[0], result[1])\n",
    "else:  # Odd count case\n",
    "    print(result)"
   ]
  },
  {
   "cell_type": "code",
   "execution_count": 5,
   "metadata": {},
   "outputs": [
    {
     "name": "stdout",
     "output_type": "stream",
     "text": [
      "Invalid input: too many values to unpack (expected 2)\n",
      "70\n"
     ]
    }
   ],
   "source": [
    "#X Multiples Before - Y Multiples After\n",
    "def middle_multiples_of_10(M, N):\n",
    "    first_multiple = ((M + 9) // 10) * 10\n",
    "    last_multiple = (N // 10) * 10\n",
    "    \n",
    "    multiples = list(range(first_multiple, last_multiple + 1, 10))\n",
    "    \n",
    "    if not multiples:\n",
    "        return -1\n",
    "    \n",
    "    n = len(multiples)\n",
    "    mid = n // 2\n",
    "    if n % 2 == 1:  # Odd count\n",
    "        return multiples[mid]\n",
    "    else:  # Even count\n",
    "        return multiples[mid - 1], multiples[mid]\n",
    "\n",
    "try:\n",
    "    user_input = input(\"Enter two integers M and N separated by a space: \").strip()\n",
    "    M, N = map(int, user_input.split())\n",
    "    if M >= N:\n",
    "        raise ValueError(\"M must be less than N.\")\n",
    "except ValueError as e:\n",
    "    print(f\"Invalid input: {e}\")\n",
    "    exit(1)\n",
    "\n",
    "result = middle_multiples_of_10(M, N)\n",
    "if result == -1:\n",
    "    print(-1)\n",
    "elif isinstance(result, tuple):  # Even count case\n",
    "    print(result[0], result[1])\n",
    "else:  # Odd count case\n",
    "    print(result)"
   ]
  },
  {
   "cell_type": "code",
   "execution_count": null,
   "metadata": {},
   "outputs": [
    {
     "name": "stdout",
     "output_type": "stream",
     "text": [
      "s\n"
     ]
    }
   ],
   "source": [
    "#Swap First & Third Parts - Nth Character\n",
    "def nth_character_after_swap(S, N):\n",
    "    length = len(S)\n",
    "    \n",
    "    part1 = S[:length // 3]\n",
    "    part2 = S[length // 3: 2 * length // 3]\n",
    "    part3 = S[2 * length // 3:]\n",
    "    \n",
    "    modified_string = part3 + part2 + part1\n",
    "    \n",
    "    index = (N - 1) % length  # Use modulo to wrap around\n",
    "    return modified_string[index]\n",
    "\n",
    "S = input().strip()\n",
    "N = int(input().strip())\n",
    "\n",
    "print(nth_character_after_swap(S, N))"
   ]
  },
  {
   "cell_type": "code",
   "execution_count": 8,
   "metadata": {},
   "outputs": [
    {
     "name": "stdout",
     "output_type": "stream",
     "text": [
      "557\n"
     ]
    }
   ],
   "source": [
    "#Sum - Odd Number of Digits \n",
    "def sum_odd_digit_numbers(N, numbers):\n",
    "    odd_digit_numbers = [num for num in numbers if len(str(num)) % 2 == 1]\n",
    "    \n",
    "    if not odd_digit_numbers:\n",
    "        return -1\n",
    "    \n",
    "    return sum(odd_digit_numbers)\n",
    "\n",
    "N = int(input().strip())\n",
    "numbers = list(map(int, input().strip().split()))\n",
    "\n",
    "print(sum_odd_digit_numbers(N, numbers))"
   ]
  },
  {
   "cell_type": "code",
   "execution_count": 9,
   "metadata": {},
   "outputs": [
    {
     "name": "stdout",
     "output_type": "stream",
     "text": [
      "1\n"
     ]
    }
   ],
   "source": [
    "#Count of 0's - Except Trailing 0's \n",
    "def count_non_trailing_zeros(N):\n",
    "    N_str = str(N)\n",
    "    N_without_trailing_zeros = N_str.rstrip('0')\n",
    "    zero_count = N_without_trailing_zeros.count('0')\n",
    "    \n",
    "    return zero_count\n",
    "\n",
    "N = int(input().strip())\n",
    "print(count_non_trailing_zeros(N))"
   ]
  },
  {
   "cell_type": "code",
   "execution_count": null,
   "metadata": {},
   "outputs": [],
   "source": []
  }
 ],
 "metadata": {
  "kernelspec": {
   "display_name": "Python 3",
   "language": "python",
   "name": "python3"
  },
  "language_info": {
   "codemirror_mode": {
    "name": "ipython",
    "version": 3
   },
   "file_extension": ".py",
   "mimetype": "text/x-python",
   "name": "python",
   "nbconvert_exporter": "python",
   "pygments_lexer": "ipython3",
   "version": "3.11.9"
  }
 },
 "nbformat": 4,
 "nbformat_minor": 2
}
