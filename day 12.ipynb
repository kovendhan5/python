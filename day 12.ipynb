{
 "cells": [
  {
   "cell_type": "code",
   "execution_count": 9,
   "metadata": {},
   "outputs": [
    {
     "name": "stdout",
     "output_type": "stream",
     "text": [
      "ko\n"
     ]
    }
   ],
   "source": [
    "print(\"ko\")"
   ]
  },
  {
   "cell_type": "code",
   "execution_count": 11,
   "metadata": {},
   "outputs": [
    {
     "name": "stdout",
     "output_type": "stream",
     "text": [
      "pguitm lepnho eter an si en g\n"
     ]
    }
   ],
   "source": [
    "def form_(sen):\n",
    "    word = sen.split()\n",
    "    max_length = max(len(w) for w in word)\n",
    "    result=[]\n",
    "\n",
    "\n",
    "    for i in range (max_length):\n",
    "        new_w = \"\"\n",
    "        for w in word:\n",
    "            if i < len(w):\n",
    "                new_w += w[i]\n",
    "        result.append(new_w)\n",
    "    print(' '.join(result))\n",
    "s = str(input(\"\"))\n",
    "form_(s)"
   ]
  },
  {
   "cell_type": "code",
   "execution_count": null,
   "metadata": {},
   "outputs": [],
   "source": [
    "#\n"
   ]
  }
 ],
 "metadata": {
  "kernelspec": {
   "display_name": "3.11.9",
   "language": "python",
   "name": "python3"
  },
  "language_info": {
   "codemirror_mode": {
    "name": "ipython",
    "version": 3
   },
   "file_extension": ".py",
   "mimetype": "text/x-python",
   "name": "python",
   "nbconvert_exporter": "python",
   "pygments_lexer": "ipython3",
   "version": "3.11.9"
  }
 },
 "nbformat": 4,
 "nbformat_minor": 2
}
