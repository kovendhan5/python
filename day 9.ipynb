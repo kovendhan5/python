{
 "cells": [
  {
   "cell_type": "code",
   "execution_count": 1,
   "metadata": {},
   "outputs": [
    {
     "name": "stdout",
     "output_type": "stream",
     "text": [
      "ko\n"
     ]
    }
   ],
   "source": [
    "print(\"ko\")"
   ]
  },
  {
   "cell_type": "code",
   "execution_count": 2,
   "metadata": {},
   "outputs": [
    {
     "name": "stdout",
     "output_type": "stream",
     "text": [
      "82 94 34\n"
     ]
    }
   ],
   "source": [
    "def main():\n",
    "    N = int(input())\n",
    "    \n",
    "    numbers = list(map(int, input().split()))\n",
    "    \n",
    "    def get_tenth_digit(num):\n",
    "        return (num // 10) % 10\n",
    "    \n",
    "    result = []\n",
    "    \n",
    "    for i in range(N):\n",
    "        current_num = numbers[i]\n",
    "        current_tenth = get_tenth_digit(current_num)\n",
    "        \n",
    "        if i == 0:\n",
    "            prev_num = numbers[-1]\n",
    "        else:\n",
    "            prev_num = numbers[i - 1]\n",
    "        \n",
    "        prev_tenth = get_tenth_digit(prev_num)\n",
    "        \n",
    "        if current_tenth > prev_tenth:\n",
    "            result.append(str(current_num))\n",
    "    \n",
    "    print(\" \".join(result))\n",
    "\n",
    "if __name__ == \"__main__\":\n",
    "    main()"
   ]
  },
  {
   "cell_type": "code",
   "execution_count": null,
   "metadata": {},
   "outputs": [
    {
     "ename": "ValueError",
     "evalue": "max() arg is an empty sequence",
     "output_type": "error",
     "traceback": [
      "\u001b[1;31m---------------------------------------------------------------------------\u001b[0m",
      "\u001b[1;31mValueError\u001b[0m                                Traceback (most recent call last)",
      "Cell \u001b[1;32mIn[4], line 23\u001b[0m\n\u001b[0;32m     20\u001b[0m     \u001b[38;5;28mprint\u001b[39m(smallest)\n\u001b[0;32m     22\u001b[0m \u001b[38;5;28;01mif\u001b[39;00m \u001b[38;5;18m__name__\u001b[39m \u001b[38;5;241m==\u001b[39m \u001b[38;5;124m\"\u001b[39m\u001b[38;5;124m__main__\u001b[39m\u001b[38;5;124m\"\u001b[39m:\n\u001b[1;32m---> 23\u001b[0m     \u001b[43mmain\u001b[49m\u001b[43m(\u001b[49m\u001b[43m)\u001b[49m\n",
      "Cell \u001b[1;32mIn[4], line 15\u001b[0m, in \u001b[0;36mmain\u001b[1;34m()\u001b[0m\n\u001b[0;32m     12\u001b[0m filtered_numbers \u001b[38;5;241m=\u001b[39m [num \u001b[38;5;28;01mfor\u001b[39;00m num \u001b[38;5;129;01min\u001b[39;00m numbers \u001b[38;5;28;01mif\u001b[39;00m \u001b[38;5;28mabs\u001b[39m(num) \u001b[38;5;241m%\u001b[39m \u001b[38;5;241m10\u001b[39m \u001b[38;5;241m==\u001b[39m D]\n\u001b[0;32m     14\u001b[0m \u001b[38;5;66;03m# Find the largest and smallest in the filtered list\u001b[39;00m\n\u001b[1;32m---> 15\u001b[0m largest \u001b[38;5;241m=\u001b[39m \u001b[38;5;28;43mmax\u001b[39;49m\u001b[43m(\u001b[49m\u001b[43mfiltered_numbers\u001b[49m\u001b[43m)\u001b[49m\n\u001b[0;32m     16\u001b[0m smallest \u001b[38;5;241m=\u001b[39m \u001b[38;5;28mmin\u001b[39m(filtered_numbers)\n\u001b[0;32m     18\u001b[0m \u001b[38;5;66;03m# Print the results\u001b[39;00m\n",
      "\u001b[1;31mValueError\u001b[0m: max() arg is an empty sequence"
     ]
    }
   ],
   "source": [
    "def main():\n",
    "    N = int(input())\n",
    "    \n",
    "    numbers = list(map(int, input().split()))\n",
    "    \n",
    "    D = int(input())\n",
    "    \n",
    "    filtered_numbers = [num for num in numbers if abs(num) % 10 == D]\n",
    "    \n",
    "    largest = max(filtered_numbers)\n",
    "    smallest = min(filtered_numbers)\n",
    "    \n",
    "    print(largest)\n",
    "    print(smallest)\n",
    "\n",
    "if __name__ == \"__main__\":\n",
    "    main()"
   ]
  },
  {
   "cell_type": "code",
   "execution_count": null,
   "metadata": {},
   "outputs": [],
   "source": []
  }
 ],
 "metadata": {
  "kernelspec": {
   "display_name": "3.11.9",
   "language": "python",
   "name": "python3"
  },
  "language_info": {
   "codemirror_mode": {
    "name": "ipython",
    "version": 3
   },
   "file_extension": ".py",
   "mimetype": "text/x-python",
   "name": "python",
   "nbconvert_exporter": "python",
   "pygments_lexer": "ipython3",
   "version": "3.11.9"
  }
 },
 "nbformat": 4,
 "nbformat_minor": 2
}
