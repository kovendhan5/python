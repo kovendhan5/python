{
 "cells": [
  {
   "cell_type": "code",
   "execution_count": 1,
   "metadata": {},
   "outputs": [
    {
     "name": "stdout",
     "output_type": "stream",
     "text": [
      "ko\n"
     ]
    }
   ],
   "source": [
    "print(\"ko\")"
   ]
  },
  {
   "cell_type": "code",
   "execution_count": 2,
   "metadata": {},
   "outputs": [
    {
     "name": "stdout",
     "output_type": "stream",
     "text": [
      "82 94 34\n"
     ]
    }
   ],
   "source": [
    "def main():\n",
    "    N = int(input())\n",
    "    \n",
    "    numbers = list(map(int, input().split()))\n",
    "    \n",
    "    def get_tenth_digit(num):\n",
    "        return (num // 10) % 10\n",
    "    \n",
    "    result = []\n",
    "    \n",
    "    for i in range(N):\n",
    "        current_num = numbers[i]\n",
    "        current_tenth = get_tenth_digit(current_num)\n",
    "        \n",
    "        if i == 0:\n",
    "            prev_num = numbers[-1]\n",
    "        else:\n",
    "            prev_num = numbers[i - 1]\n",
    "        \n",
    "        prev_tenth = get_tenth_digit(prev_num)\n",
    "        \n",
    "        if current_tenth > prev_tenth:\n",
    "            result.append(str(current_num))\n",
    "    \n",
    "    print(\" \".join(result))\n",
    "\n",
    "if __name__ == \"__main__\":\n",
    "    main()"
   ]
  },
  {
   "cell_type": "code",
   "execution_count": 1,
   "metadata": {},
   "outputs": [
    {
     "name": "stdout",
     "output_type": "stream",
     "text": [
      "2\n",
      "2\n"
     ]
    }
   ],
   "source": [
    "def main():\n",
    "    N = int(input())\n",
    "    \n",
    "    numbers = list(map(int, input().split()))\n",
    "    \n",
    "    D = int(input())\n",
    "    \n",
    "    filtered_numbers = [num for num in numbers if abs(num) % 10 == D]\n",
    "    \n",
    "    largest = max(filtered_numbers)\n",
    "    smallest = min(filtered_numbers)\n",
    "    \n",
    "    print(largest)\n",
    "    print(smallest)\n",
    "\n",
    "if __name__ == \"__main__\":\n",
    "    main()"
   ]
  },
  {
   "cell_type": "code",
   "execution_count": 5,
   "metadata": {},
   "outputs": [
    {
     "data": {
      "text/plain": [
       "'hi ko this is vendhan'"
      ]
     },
     "execution_count": 5,
     "metadata": {},
     "output_type": "execute_result"
    }
   ],
   "source": [
    "def newfunc(a,new):\n",
    "    return (f\"hi {a} this is {new}\")\n",
    "newfunc(\"ko\",\"vendhan\")\n",
    "\n"
   ]
  },
  {
   "cell_type": "code",
   "execution_count": null,
   "metadata": {},
   "outputs": [],
   "source": []
  }
 ],
 "metadata": {
  "kernelspec": {
   "display_name": "3.11.9",
   "language": "python",
   "name": "python3"
  },
  "language_info": {
   "codemirror_mode": {
    "name": "ipython",
    "version": 3
   },
   "file_extension": ".py",
   "mimetype": "text/x-python",
   "name": "python",
   "nbconvert_exporter": "python",
   "pygments_lexer": "ipython3",
   "version": "3.11.9"
  }
 },
 "nbformat": 4,
 "nbformat_minor": 2
}
