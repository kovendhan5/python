{
 "cells": [
  {
   "cell_type": "code",
   "execution_count": 1,
   "metadata": {},
   "outputs": [
    {
     "name": "stdout",
     "output_type": "stream",
     "text": [
      "i am kovendhan\n"
     ]
    }
   ],
   "source": [
    "print(\"i am kovendhan\")"
   ]
  },
  {
   "cell_type": "code",
   "execution_count": null,
   "metadata": {},
   "outputs": [],
   "source": [
    "k = 10\n",
    "o = 20\n",
    "v = 30\n",
    "e = 40\n",
    "n = 50\n",
    "d = 60\n",
    "h = 70\n",
    "a = 80\n",
    "n = 90\n",
    "if k == 10:\n",
    "    print(\"k is 10\")\n",
    "if o == 20:\n",
    "    print(\"o is 20\")\n",
    "if v == 30 and e == 40:\n",
    "    print(\"v is 30 and e is 40\")\n",
    "if n == 50 & d == 60:\n",
    "    print(\"n is 50 and d is 60\")"
   ]
  }
 ],
 "metadata": {
  "kernelspec": {
   "display_name": "3.11.9",
   "language": "python",
   "name": "python3"
  },
  "language_info": {
   "codemirror_mode": {
    "name": "ipython",
    "version": 3
   },
   "file_extension": ".py",
   "mimetype": "text/x-python",
   "name": "python",
   "nbconvert_exporter": "python",
   "pygments_lexer": "ipython3",
   "version": "3.11.9"
  }
 },
 "nbformat": 4,
 "nbformat_minor": 2
}
