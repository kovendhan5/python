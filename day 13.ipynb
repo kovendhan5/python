{
 "cells": [
  {
   "cell_type": "code",
   "execution_count": 1,
   "metadata": {},
   "outputs": [
    {
     "name": "stdout",
     "output_type": "stream",
     "text": [
      "hi\n"
     ]
    }
   ],
   "source": [
    "print(\"hi\")"
   ]
  },
  {
   "cell_type": "code",
   "execution_count": 1,
   "metadata": {},
   "outputs": [],
   "source": [
    "# Minimum Swaps - Odd/Even Parity\n",
    "def min_swaps_odd_even_parity(N, numbers):\n",
    "    odd_indices = [i for i, num in enumerate(numbers) if num % 2 == 1]\n",
    "    even_indices = [i for i, num in enumerate(numbers) if num % 2 == 0]\n",
    "    \n",
    "    if len(odd_indices) % 2 == 0:\n",
    "        return len(odd_indices) // 2\n",
    "    else:\n",
    "        return -1\n",
    "    "
   ]
  },
  {
   "cell_type": "code",
   "execution_count": 10,
   "metadata": {},
   "outputs": [
    {
     "name": "stdout",
     "output_type": "stream",
     "text": [
      "9\n",
      "5\n"
     ]
    }
   ],
   "source": [
    "s = input()\n",
    "n = 0\n",
    "c = 0\n",
    "for i in s:\n",
    "    if i.isdigit():\n",
    "        n += 1\n",
    "    elif i.isalpha():\n",
    "        c+= 1\n",
    "\n",
    "\n",
    "print(c)\n",
    "print(n)"
   ]
  },
  {
   "cell_type": "code",
   "execution_count": null,
   "metadata": {},
   "outputs": [],
   "source": []
  }
 ],
 "metadata": {
  "kernelspec": {
   "display_name": "3.11.9",
   "language": "python",
   "name": "python3"
  },
  "language_info": {
   "codemirror_mode": {
    "name": "ipython",
    "version": 3
   },
   "file_extension": ".py",
   "mimetype": "text/x-python",
   "name": "python",
   "nbconvert_exporter": "python",
   "pygments_lexer": "ipython3",
   "version": "3.11.9"
  }
 },
 "nbformat": 4,
 "nbformat_minor": 2
}
