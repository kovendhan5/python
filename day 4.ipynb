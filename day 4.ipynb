{
 "cells": [
  {
   "cell_type": "code",
   "execution_count": 2,
   "metadata": {},
   "outputs": [
    {
     "name": "stdout",
     "output_type": "stream",
     "text": [
      "ko 20 new\n"
     ]
    }
   ],
   "source": [
    "name = 'ko'\n",
    "age = 20\n",
    "is_new = True\n",
    "if is_new == True:\n",
    "    print( name , age, 'new')\n",
    "else:\n",
    "    print(name, age, 'old')"
   ]
  },
  {
   "cell_type": "code",
   "execution_count": 7,
   "metadata": {},
   "outputs": [
    {
     "name": "stdout",
     "output_type": "stream",
     "text": [
      "ko likes blue\n"
     ]
    }
   ],
   "source": [
    "name = input('what is your name? ')\n",
    "colour = input('what is your colour? ')\n",
    "print(name+ 'likes ' +  colour)"
   ]
  },
  {
   "cell_type": "code",
   "execution_count": 1,
   "metadata": {},
   "outputs": [
    {
     "name": "stdout",
     "output_type": "stream",
     "text": [
      "10.000 <class 'str'>\n"
     ]
    },
    {
     "data": {
      "text/plain": [
       "str"
      ]
     },
     "execution_count": 1,
     "metadata": {},
     "output_type": "execute_result"
    }
   ],
   "source": [
    "ko = str(input('enter the string: '))\n",
    "print(ko , type(ko))\n",
    "type(ko)\n"
   ]
  },
  {
   "cell_type": "code",
   "execution_count": 6,
   "metadata": {},
   "outputs": [
    {
     "name": "stdout",
     "output_type": "stream",
     "text": [
      "P\n",
      "y\n",
      "s\n"
     ]
    },
    {
     "data": {
      "text/plain": [
       "'r'"
      ]
     },
     "execution_count": 6,
     "metadata": {},
     "output_type": "execute_result"
    }
   ],
   "source": [
    "course = 'Python for Beginners'\n",
    "print(course[0])   \n",
    "print(course[1])   \n",
    "print(course[-1]) \n",
    "course[-2] "
   ]
  },
  {
   "cell_type": "code",
   "execution_count": 20,
   "metadata": {},
   "outputs": [
    {
     "name": "stdout",
     "output_type": "stream",
     "text": [
      "HI, MY NAME IS KOVENDHANN\n",
      "hi, my name is kovendhann\n",
      "Hi, my name is kovendhann\n",
      "Hi, My Name Is Kovendhann\n",
      "1\n"
     ]
    },
    {
     "data": {
      "text/plain": [
       "'Hi, my name is kkovendhann'"
      ]
     },
     "execution_count": 20,
     "metadata": {},
     "output_type": "execute_result"
    }
   ],
   "source": [
    "name = 'kovendhann'\n",
    "message = f'Hi, my name is {name}'\n",
    "message.upper()  \n",
    "print(message.upper()) \n",
    "\n",
    "print(message.lower())   \n",
    "print(message.capitalize())\n",
    "print(message.title())   \n",
    "# to convert to uppercase\n",
    " # to convert to lowercase\n",
    " # to capitalize the first letter of every word\n",
    "print(message.find('i'))\n",
    "message.replace('k', 'kk')\n"
   ]
  }
 ],
 "metadata": {
  "kernelspec": {
   "display_name": "3.11.9",
   "language": "python",
   "name": "python3"
  },
  "language_info": {
   "codemirror_mode": {
    "name": "ipython",
    "version": 3
   },
   "file_extension": ".py",
   "mimetype": "text/x-python",
   "name": "python",
   "nbconvert_exporter": "python",
   "pygments_lexer": "ipython3",
   "version": "3.11.9"
  }
 },
 "nbformat": 4,
 "nbformat_minor": 2
}
