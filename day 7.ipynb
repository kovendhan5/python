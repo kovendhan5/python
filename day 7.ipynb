{
 "cells": [
  {
   "cell_type": "code",
   "execution_count": 4,
   "metadata": {},
   "outputs": [
    {
     "name": "stdout",
     "output_type": "stream",
     "text": [
      "ko\n"
     ]
    }
   ],
   "source": [
    "print('ko')"
   ]
  },
  {
   "cell_type": "code",
   "execution_count": 5,
   "metadata": {},
   "outputs": [
    {
     "name": "stdout",
     "output_type": "stream",
     "text": [
      "5\n"
     ]
    }
   ],
   "source": [
    "#write code for addition\n",
    "def add(a,b):\n",
    "    return a+b\n",
    "print(add(2,3))"
   ]
  },
  {
   "cell_type": "markdown",
   "metadata": {},
   "source": [
    "this code is for addition"
   ]
  },
  {
   "cell_type": "code",
   "execution_count": 6,
   "metadata": {},
   "outputs": [
    {
     "name": "stdout",
     "output_type": "stream",
     "text": [
      "600\n"
     ]
    }
   ],
   "source": [
    "#stack bills\n",
    "def stack_bills(bills):\n",
    "    return sum(bills)\n",
    "\n",
    "bills = [100, 200, 300]\n",
    "total = stack_bills(bills)\n",
    "print(total)"
   ]
  },
  {
   "cell_type": "code",
   "execution_count": 8,
   "metadata": {},
   "outputs": [
    {
     "name": "stdout",
     "output_type": "stream",
     "text": [
      "hi i'm 'kovendhan'\n",
      "hi im \"kovendhan\" hi\n"
     ]
    }
   ],
   "source": [
    "print(\"hi i'm 'kovendhan'\")\n",
    "print('hi im \"kovendhan\" hi')"
   ]
  },
  {
   "cell_type": "code",
   "execution_count": 9,
   "metadata": {},
   "outputs": [
    {
     "name": "stdout",
     "output_type": "stream",
     "text": [
      "9\n"
     ]
    }
   ],
   "source": [
    "k= 'kovendhan'\n",
    "print(len(k))"
   ]
  },
  {
   "cell_type": "code",
   "execution_count": 13,
   "metadata": {},
   "outputs": [
    {
     "name": "stdout",
     "output_type": "stream",
     "text": [
      "hi i'm 'kovendhan' \n",
      "from this on new line will be printed\n"
     ]
    }
   ],
   "source": [
    "print(\"hi i'm 'kovendhan' \\nfrom this on new line will be printed\")"
   ]
  },
  {
   "cell_type": "code",
   "execution_count": 16,
   "metadata": {},
   "outputs": [
    {
     "name": "stdout",
     "output_type": "stream",
     "text": [
      "hello \n",
      "this is kovendhan \thow are you \tthis is new line\n",
      "hello \n",
      "this is new line \t i'm fine \t how about you\n"
     ]
    }
   ],
   "source": [
    "print(\"hello \\nthis is kovendhan \\thow are you \\tthis is new line\")\n",
    "print(\"hello \\nthis is new line \\t i'm fine \\t how about you\")"
   ]
  },
  {
   "cell_type": "code",
   "execution_count": 22,
   "metadata": {},
   "outputs": [
    {
     "name": "stdout",
     "output_type": "stream",
     "text": [
      "hi\n",
      "Help on built-in function print in module builtins:\n",
      "\n",
      "print(*args, sep=' ', end='\\n', file=None, flush=False)\n",
      "    Prints the values to a stream, or to sys.stdout by default.\n",
      "    \n",
      "    sep\n",
      "      string inserted between values, default a space.\n",
      "    end\n",
      "      string appended after the last value, default a newline.\n",
      "    file\n",
      "      a file-like object (stream); defaults to the current sys.stdout.\n",
      "    flush\n",
      "      whether to forcibly flush the stream.\n",
      "\n",
      "2\n"
     ]
    }
   ],
   "source": [
    "'''this is a comment'''\n",
    "#this comment\n",
    "print('hi')\n",
    "help(print)\n",
    "\n",
    "import this\n",
    "\n",
    "if 2>1:\n",
    "    print(2)"
   ]
  },
  {
   "cell_type": "code",
   "execution_count": 25,
   "metadata": {},
   "outputs": [
    {
     "name": "stdout",
     "output_type": "stream",
     "text": [
      "2\n"
     ]
    }
   ],
   "source": [
    "a = 6  # 6 in binary is 110\n",
    "b = 3  # 3 in binary is 011\n",
    "result = a & b  # 110 & 011 = 010 (binary for 2)\n",
    "print(result)  # Output: 2\n"
   ]
  },
  {
   "cell_type": "code",
   "execution_count": 26,
   "metadata": {},
   "outputs": [
    {
     "name": "stdout",
     "output_type": "stream",
     "text": [
      "My favorite country is: India\n",
      "My favorite country is: India\n",
      "My favorite country is: India\n",
      "My favorite country is: China\n",
      "My favorite country is: Japan\n"
     ]
    }
   ],
   "source": [
    "country_name = \"\\nPlease enter the name of the country you love: \" \n",
    "while True: \n",
    "    country = input(country_name) \n",
    "    if country == 'quit': \n",
    "        break \n",
    "    else: \n",
    "        print(\"My favorite country is: \" + country.title())"
   ]
  },
  {
   "cell_type": "code",
   "execution_count": 27,
   "metadata": {},
   "outputs": [
    {
     "name": "stdout",
     "output_type": "stream",
     "text": [
      "Letters: P\n",
      "Letters: y\n",
      "Letters: t\n",
      "Letters: h\n",
      "Letters: o\n",
      "Letters: n\n"
     ]
    }
   ],
   "source": [
    "for letter in 'Py thon': \n",
    "    if letter == ' ': \n",
    "        continue \n",
    "    print ('Letters:', letter)\n",
    "    "
   ]
  },
  {
   "cell_type": "code",
   "execution_count": 34,
   "metadata": {},
   "outputs": [
    {
     "name": "stdout",
     "output_type": "stream",
     "text": [
      "hello worldhi\n"
     ]
    }
   ],
   "source": [
    "h = 'hello'\n",
    "e = 'world'\n",
    "print(h+e,)\n",
    "print('hi')"
   ]
  },
  {
   "cell_type": "code",
   "execution_count": 35,
   "metadata": {},
   "outputs": [
    {
     "name": "stdout",
     "output_type": "stream",
     "text": [
      "Letters: P\n",
      "Letters: y\n",
      "Letters: t\n",
      "We are still printing letters\n",
      "Letters: h\n",
      "Letters: o\n",
      "Letters: n\n"
     ]
    }
   ],
   "source": [
    "for letter in 'Python': \n",
    "    if letter == 'h': \n",
    "        pass \n",
    "        print(\"We are still printing letters\") \n",
    "    print ('Letters:', letter)"
   ]
  },
  {
   "cell_type": "code",
   "execution_count": 39,
   "metadata": {},
   "outputs": [
    {
     "name": "stdout",
     "output_type": "stream",
     "text": [
      "ython\n",
      "pto\n",
      "p\n",
      "nohtyp\n",
      "p\n"
     ]
    }
   ],
   "source": [
    "string = 'python'\n",
    "print(string[1:6])\n",
    "print(string[:6:2])\n",
    "print(string[0:1])\n",
    "print(string[::-1])\n",
    "print(string[-6])"
   ]
  }
 ],
 "metadata": {
  "kernelspec": {
   "display_name": "3.11.9",
   "language": "python",
   "name": "python3"
  },
  "language_info": {
   "codemirror_mode": {
    "name": "ipython",
    "version": 3
   },
   "file_extension": ".py",
   "mimetype": "text/x-python",
   "name": "python",
   "nbconvert_exporter": "python",
   "pygments_lexer": "ipython3",
   "version": "3.11.9"
  }
 },
 "nbformat": 4,
 "nbformat_minor": 2
}
