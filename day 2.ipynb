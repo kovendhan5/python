{
 "cells": [
  {
   "cell_type": "code",
   "execution_count": 1,
   "metadata": {},
   "outputs": [
    {
     "name": "stdout",
     "output_type": "stream",
     "text": [
      "ko\n"
     ]
    }
   ],
   "source": [
    "print(\"ko\")"
   ]
  },
  {
   "cell_type": "code",
   "execution_count": 5,
   "metadata": {},
   "outputs": [
    {
     "name": "stdout",
     "output_type": "stream",
     "text": [
      "1.5 2 2.5 3\n",
      "ko > 1\n",
      "nd != ko\n"
     ]
    }
   ],
   "source": [
    "ko = 1.5\n",
    "v = 2\n",
    "e = 2.5\n",
    "nd = 3\n",
    "print(ko, v, e, nd)\n",
    "if ko > 1:\n",
    "    print(\"ko > 1\")\n",
    "else:\n",
    "     print(\"ko < 1\")\n",
    "if nd == ko or e >= nd :\n",
    "    print(\"nd = ko\")\n",
    "else:\n",
    "    print(\"nd != ko\")\n",
    "\n",
    "     "
   ]
  },
  {
   "cell_type": "code",
   "execution_count": 11,
   "metadata": {},
   "outputs": [
    {
     "name": "stdout",
     "output_type": "stream",
     "text": [
      "k = v\n",
      "one\n",
      "k = v\n",
      "two\n",
      "k = v\n",
      "many\n"
     ]
    }
   ],
   "source": [
    "# switch case\n",
    "k = 1\n",
    "v = 1\n",
    "e = 2\n",
    "def switch_case(x):\n",
    "    if k == v:\n",
    "        print(\"k = v\")\n",
    "    elif k == e:\n",
    "        print(\"k = e\")\n",
    "    else:\n",
    "        print(\"k != v and k != e\")\n",
    "    return {\n",
    "        1: 'one',\n",
    "        2: 'two',\n",
    "    }.get(x, 'many')\n",
    "\n",
    "print(switch_case(1))\n",
    "print(switch_case(2))\n",
    "print(switch_case(3))\n"
   ]
  }
 ],
 "metadata": {
  "kernelspec": {
   "display_name": "3.11.9",
   "language": "python",
   "name": "python3"
  },
  "language_info": {
   "codemirror_mode": {
    "name": "ipython",
    "version": 3
   },
   "file_extension": ".py",
   "mimetype": "text/x-python",
   "name": "python",
   "nbconvert_exporter": "python",
   "pygments_lexer": "ipython3",
   "version": "3.11.9"
  }
 },
 "nbformat": 4,
 "nbformat_minor": 2
}
