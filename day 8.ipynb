{
 "cells": [
  {
   "cell_type": "code",
   "execution_count": 1,
   "metadata": {},
   "outputs": [
    {
     "name": "stdout",
     "output_type": "stream",
     "text": [
      "ko\n"
     ]
    }
   ],
   "source": [
    "print('ko')"
   ]
  },
  {
   "cell_type": "code",
   "execution_count": 9,
   "metadata": {},
   "outputs": [
    {
     "name": "stdout",
     "output_type": "stream",
     "text": [
      "names are\n",
      "My name is Hira and my age is \n",
      "My name is kathir and my age is \n",
      "My name is hi and my age is \n"
     ]
    }
   ],
   "source": [
    "def change_name(*name): \n",
    "    print('names are')\n",
    "    for n in name:\n",
    "        print (\"My name is \" + n + \" and my age is \" ) \n",
    "change_name('Hira','kathir','hi')"
   ]
  },
  {
   "cell_type": "code",
   "execution_count": 17,
   "metadata": {},
   "outputs": [
    {
     "name": "stdout",
     "output_type": "stream",
     "text": [
      "<class 'int'>\n",
      "<class 'bool'>\n",
      "<class 'str'>\n",
      "<class 'complex'>\n",
      "<class 'float'>\n",
      "<class 'list'>\n",
      "<class 'tuple'>\n",
      "<class 'dict'>\n",
      "<class 'set'>\n"
     ]
    }
   ],
   "source": [
    "k = 1\n",
    "o = True\n",
    "v = 'hi'\n",
    "e = 2+3j\n",
    "n = 2.2\n",
    "ko = [1,2,3,4,5]\n",
    "ko1 = (1,2,3,4,5,) \n",
    "dict ={\n",
    "    \"name\": \"ko\",\n",
    "    \"age\": 20,\n",
    "}\n",
    "set = {1,2,3,4,5}\n",
    "print(type(k))\n",
    "print(type(o))\n",
    "print(type(v))\n",
    "print(type(e))\n",
    "print(type(n))\n",
    "print(type(ko))\n",
    "print(type(ko1))\n",
    "print(type(dict))\n",
    "print(type(set))"
   ]
  },
  {
   "cell_type": "code",
   "execution_count": 20,
   "metadata": {},
   "outputs": [
    {
     "name": "stdout",
     "output_type": "stream",
     "text": [
      "5\n",
      "-1\n",
      "6\n",
      "0.6666666666666666\n",
      "2\n",
      "8\n",
      "0\n",
      "yes\n",
      "yes\n",
      "yes\n",
      "no z is 4\n",
      "yes\n"
     ]
    }
   ],
   "source": [
    "#arithmetic operator\n",
    "x = 2+3\n",
    "y = 2-3\n",
    "z = 2*3\n",
    "a = 2/3\n",
    "b = 2%3\n",
    "c = 2**3\n",
    "d = 2//3\n",
    "print(x)\n",
    "print(y)\n",
    "print(z)\n",
    "print(a)\n",
    "print(b)\n",
    "print(c)\n",
    "print(d)\n",
    "\n",
    "#comparison operator\n",
    "x =5 \n",
    "y = 5\n",
    "if x == y:\n",
    "    print('yes')\n",
    "else:\n",
    "    print('no')\n",
    "\n",
    "x =6 \n",
    "y =5\n",
    "\n",
    "if x != y:\n",
    "    print('yes')\n",
    "else:\n",
    "    print('no')\n",
    "\n",
    "\n",
    "if x >= y:\n",
    "    print('yes')\n",
    "else:\n",
    "    print('no')\n",
    "\n",
    "z =4\n",
    "\n",
    "if x == y == z:\n",
    "    print('z is 4')\n",
    "else:\n",
    "    print('no z is 4')\n",
    "\n",
    "\n",
    "if x != y != z:\n",
    "    print('yes')\n",
    "else:\n",
    "    print('no')"
   ]
  },
  {
   "cell_type": "code",
   "execution_count": 24,
   "metadata": {},
   "outputs": [
    {
     "name": "stdout",
     "output_type": "stream",
     "text": [
      "yes\n",
      "yes\n",
      "no\n"
     ]
    }
   ],
   "source": [
    "#logical operator\n",
    "x = 5\n",
    "y = 6\n",
    "z = 7\n",
    "if x == 5 and y == 6:\n",
    "    print('yes')\n",
    "else:\n",
    "    print('no')\n",
    "\n",
    "if x == 5 or y == 5:\n",
    "    print('yes')\n",
    "else:\n",
    "    print('no')\n",
    "\n",
    "if not x == 5:\n",
    "    print('yes')\n",
    "else:\n",
    "    print('no')\n",
    "\n"
   ]
  },
  {
   "cell_type": "code",
   "execution_count": null,
   "metadata": {},
   "outputs": [],
   "source": []
  },
  {
   "cell_type": "code",
   "execution_count": 34,
   "metadata": {},
   "outputs": [
    {
     "name": "stdout",
     "output_type": "stream",
     "text": [
      "9\n",
      "36\n",
      "9\n",
      "6561\n"
     ]
    }
   ],
   "source": [
    "#assignment operator\n",
    "\n",
    "x = 5\n",
    "y =4\n",
    "x = x + y\n",
    "print(x)\n",
    "x *= y\n",
    "print(x)\n",
    "\n",
    "x //=y\n",
    "print(x)\n",
    "\n",
    "x **=y\n",
    "print(x)"
   ]
  },
  {
   "cell_type": "code",
   "execution_count": 40,
   "metadata": {},
   "outputs": [
    {
     "name": "stdout",
     "output_type": "stream",
     "text": [
      "4\n",
      "5\n",
      "1\n",
      "-6\n",
      "80\n",
      "0\n",
      "True\n",
      "False\n",
      "yes\n"
     ]
    }
   ],
   "source": [
    "#bitwise operator\n",
    "x = 5\n",
    "y = 4\n",
    "\n",
    "print(x&y)\n",
    "print(x|y)\n",
    "print(x^y)\n",
    "print(~x)\n",
    "print(x<<y)\n",
    "print(x>>y)\n",
    "\n",
    "#identity operator\n",
    "x = 5\n",
    "y = 5\n",
    "print(x is y)\n",
    "print(x is not y)\n",
    "\n",
    "#membership operator\n",
    "x = [1,2,3,4,5]\n",
    "if 1 in x:\n",
    "    print('yes')\n",
    "else:\n",
    "    print('no')\n"
   ]
  },
  {
   "cell_type": "code",
   "execution_count": 50,
   "metadata": {},
   "outputs": [
    {
     "name": "stdout",
     "output_type": "stream",
     "text": [
      "yes\n"
     ]
    }
   ],
   "source": [
    "x = [1,2,3,4,5]\n",
    "if 2 in x:\n",
    "    if 5 in x:\n",
    "        print('yes')\n",
    "elif 5 not in x:\n",
    "    print('yes')\n",
    "else:\n",
    "    print('hi')"
   ]
  },
  {
   "cell_type": "code",
   "execution_count": 57,
   "metadata": {},
   "outputs": [
    {
     "name": "stdout",
     "output_type": "stream",
     "text": [
      "5\n",
      "0\n",
      "1\n",
      "2\n",
      "3\n",
      "4\n",
      "5\n",
      "5\n",
      "hi\n",
      "0\n",
      "0\n",
      "0\n",
      "0\n",
      "1\n",
      "2\n",
      "3\n",
      "4\n",
      "2\n",
      "4\n",
      "6\n",
      "8\n",
      "3\n",
      "6\n",
      "9\n",
      "12\n",
      "4\n",
      "8\n",
      "12\n",
      "16\n"
     ]
    }
   ],
   "source": [
    "n = 5\n",
    "while n < 5:\n",
    "    print(n+1)\n",
    "    n += 1\n",
    "else:\n",
    "    print(n)\n",
    "\n",
    "\n",
    "y = 6\n",
    "for y in range(y):\n",
    "    print(y)\n",
    "\n",
    "while n <6:\n",
    "    while n == 5:\n",
    "        print(n)\n",
    "        n += 1\n",
    "        break\n",
    "    else:\n",
    "        print(n)\n",
    "\n",
    "else:\n",
    "    print('hi')\n",
    "\n",
    "\n",
    "for y in range(y):\n",
    "    for i in range(1,5):\n",
    "        print(i*y)"
   ]
  },
  {
   "cell_type": "code",
   "execution_count": 15,
   "metadata": {},
   "outputs": [
    {
     "name": "stdout",
     "output_type": "stream",
     "text": [
      "['love', 'is', 'god']\n",
      "love is god\n",
      "god is love\n"
     ]
    }
   ],
   "source": [
    "x = \"love is god\"\n",
    "z = x.split(\" \")\n",
    "y = \" \".join(z)\n",
    "print(z)\n",
    "print(y)\n",
    "y = ' '.join(z[::-1])\n",
    "print(y)"
   ]
  },
  {
   "cell_type": "code",
   "execution_count": 24,
   "metadata": {},
   "outputs": [
    {
     "name": "stdout",
     "output_type": "stream",
     "text": [
      "hi****\n",
      "hello\\\n"
     ]
    }
   ],
   "source": [
    "s1 = str(input())\n",
    "s2 = str(input())\n",
    "n = abs(len(s2) - len(s1)) \n",
    "if len(s1) < len(s2):\n",
    "    print(s1 + \"*\" * n)\n",
    "    print(s2)\n",
    "elif len(s1) > len(s2):\n",
    "    print(s1)\n",
    "    print(s2 + \"*\" * n)\n",
    "else:\n",
    "    print(s1)\n",
    "    print(s2)"
   ]
  },
  {
   "cell_type": "code",
   "execution_count": 21,
   "metadata": {},
   "outputs": [
    {
     "name": "stdout",
     "output_type": "stream",
     "text": [
      "33\n",
      "3.605551275463989\n"
     ]
    }
   ],
   "source": [
    "n = abs(23 - 56)\n",
    "print(n)\n",
    "y = abs(2+3j)\n",
    "print(y)"
   ]
  },
  {
   "cell_type": "code",
   "execution_count": 27,
   "metadata": {},
   "outputs": [
    {
     "name": "stdout",
     "output_type": "stream",
     "text": [
      "STRING\n",
      "string\n",
      "String\n",
      "String\n",
      "string\n"
     ]
    }
   ],
   "source": [
    "s = 'string'\n",
    "print(s.upper())\n",
    "print(s.lower())\n",
    "print(s.title())\n",
    "print(s.capitalize())\n",
    "print(s)"
   ]
  },
  {
   "cell_type": "code",
   "execution_count": 28,
   "metadata": {},
   "outputs": [
    {
     "name": "stdout",
     "output_type": "stream",
     "text": [
      "this is kovendhan\n"
     ]
    }
   ],
   "source": [
    "def ko(name):\n",
    "    print(f\"this is {name}\")\n",
    "\n",
    "ko(\"kovendhan\")"
   ]
  },
  {
   "cell_type": "code",
   "execution_count": 48,
   "metadata": {},
   "outputs": [
    {
     "name": "stdout",
     "output_type": "stream",
     "text": [
      "hi this is i'm\n",
      " this is new line\n",
      " this is new line\n",
      " this is new line\n",
      " this is new line\n",
      " this is new line\n",
      " this is new line\n",
      " this is new line\n"
     ]
    }
   ],
   "source": [
    "f = open(\"new.txt\", \"a\")\n",
    "f.write(\"\\n this is new line\")  # Move the cursor to the beginning of the file\n",
    "f.close()\n",
    "\n",
    "f= open(\"new.txt\")\n",
    "print(f.read())\n",
    "f.close()"
   ]
  },
  {
   "cell_type": "code",
   "execution_count": 71,
   "metadata": {},
   "outputs": [
    {
     "name": "stdout",
     "output_type": "stream",
     "text": [
      "file removed\n"
     ]
    }
   ],
   "source": [
    "import os\n",
    "import random \n",
    "n = random.randint(1,100)\n",
    "if n >= 90:\n",
    "    os.remove(\"new.txt\")\n",
    "    print('file removed')\n",
    "else:\n",
    "    print('try again')"
   ]
  },
  {
   "cell_type": "code",
   "execution_count": 72,
   "metadata": {},
   "outputs": [
    {
     "name": "stdout",
     "output_type": "stream",
     "text": [
      "sorry file not found\n",
      "this is finally\n"
     ]
    }
   ],
   "source": [
    "try:\n",
    "    f = open(\"new.txt\")\n",
    "    print(f.read())\n",
    "    f.close()\n",
    "except FileNotFoundError:\n",
    "    print('sorry file not found')\n",
    "finally:\n",
    "    print('this is finally')"
   ]
  },
  {
   "cell_type": "code",
   "execution_count": 2,
   "metadata": {},
   "outputs": [
    {
     "name": "stdout",
     "output_type": "stream",
     "text": [
      "5 -10 15 -20 25 -30 35 "
     ]
    }
   ],
   "source": [
    "t,x=map(int, input().split())\n",
    "r=[]\n",
    "for i in range(1,t+1):\n",
    "    if i%2==0:\n",
    "        r.append(-i*x)\n",
    "    else:\n",
    "        r.append(i*x)\n",
    "for i in range(len(r)):\n",
    "    print(r[i],end=\" \")\n"
   ]
  },
  {
   "cell_type": "code",
   "execution_count": null,
   "metadata": {},
   "outputs": [
    {
     "name": "stdout",
     "output_type": "stream",
     "text": [
      "['8.00', '11.50'] "
     ]
    }
   ],
   "source": [
    "n=int(input())\n",
    "l=list(map(int,input().split()))\n",
    "k=int(input())\n",
    "r=[]\n",
    "for i in range(0,n,k):\n",
    "    a=sum(l[i:i+k])/k\n",
    "    r.append(f\"{a:.2f}\")\n"
   ]
  },
  {
   "cell_type": "code",
   "execution_count": 15,
   "metadata": {},
   "outputs": [
    {
     "name": "stdout",
     "output_type": "stream",
     "text": [
      "Student's name is John and age is 16\n",
      "The grade of student is: A+\n",
      "Student's name is Smith and age is 24\n",
      "The grade of student is: B\n",
      "\n",
      "\n",
      "Student's name is Anna and age is 21\n",
      "Girl class is ready\n",
      "This is Girls class which is a child class of Student class.\n",
      "The grade of student is: B\n"
     ]
    }
   ],
   "source": [
    "class Student: \n",
    "    #Class Attribute species = 'humans' \n",
    "    # Initializer / Object Attributes \n",
    "    def __init__(self, name, age): \n",
    "        self.name = name \n",
    "        self.age = age \n",
    "        print(\"Student's name is \" + name + \" and age is \" + str(age)) \n",
    "    def performance(self, grades): \n",
    "        self.grades = grades \n",
    "        print(\"The grade of student is: \" + grades) \n",
    "class Girl(Student): \n",
    "    def __init__(self, name, age): \n",
    "        super().__init__(name, age) \n",
    "        print(\"Girl class is ready\") \n",
    "    \n",
    "    def whichclass(self): \n",
    "        print(\"This is Girls class which is a child class of Student class.\") \n",
    "    \n",
    "stu1 = Student(\"John\", 16) \n",
    "stu1.performance(\"A+\") \n",
    "stu2 = Student(\"Smith\", 24) \n",
    "stu2.performance(\"B\") \n",
    "print(\"\\n\") \n",
    "girl1 = Girl(\"Anna\", 21) \n",
    "girl1.whichclass() \n",
    "girl1.performance(\"B\")"
   ]
  },
  {
   "cell_type": "code",
   "execution_count": null,
   "metadata": {},
   "outputs": [],
   "source": []
  }
 ],
 "metadata": {
  "kernelspec": {
   "display_name": "3.11.9",
   "language": "python",
   "name": "python3"
  },
  "language_info": {
   "codemirror_mode": {
    "name": "ipython",
    "version": 3
   },
   "file_extension": ".py",
   "mimetype": "text/x-python",
   "name": "python",
   "nbconvert_exporter": "python",
   "pygments_lexer": "ipython3",
   "version": "3.11.9"
  }
 },
 "nbformat": 4,
 "nbformat_minor": 2
}
